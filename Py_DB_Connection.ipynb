{
 "cells": [
  {
   "cell_type": "markdown",
   "id": "4bc82a2c",
   "metadata": {},
   "source": [
    "## SQL Connection in Python"
   ]
  },
  {
   "cell_type": "code",
   "execution_count": 3,
   "id": "39332dd2",
   "metadata": {},
   "outputs": [],
   "source": [
    "import mysql.connector"
   ]
  },
  {
   "cell_type": "code",
   "execution_count": 4,
   "id": "23f681a8",
   "metadata": {},
   "outputs": [
    {
     "name": "stdout",
     "output_type": "stream",
     "text": [
      "<mysql.connector.connection_cext.CMySQLConnection object at 0x0000022782F27A90>\n"
     ]
    }
   ],
   "source": [
    "mydb=mysql.connector.connect(host=\"localhost\",user=\"root\",password=\"Naveen@1301\")\n",
    "print(mydb)"
   ]
  },
  {
   "cell_type": "code",
   "execution_count": 4,
   "id": "cec62a5a",
   "metadata": {},
   "outputs": [
    {
     "name": "stdout",
     "output_type": "stream",
     "text": [
      "CMySQLCursor: create database python_db2\n"
     ]
    }
   ],
   "source": [
    "# creating a database\n",
    "mycrs=mydb.cursor()\n",
    "mycrs.execute(\"create database python_db2\")\n",
    "print(mycrs)"
   ]
  },
  {
   "cell_type": "code",
   "execution_count": 22,
   "id": "8ac453fa",
   "metadata": {},
   "outputs": [
    {
     "name": "stdout",
     "output_type": "stream",
     "text": [
      "('collage',)\n",
      "('company',)\n",
      "('emp',)\n",
      "('emp1',)\n",
      "('examcell',)\n",
      "('information_schema',)\n",
      "('mydb',)\n",
      "('mysql',)\n",
      "('performance_schema',)\n",
      "('python_db',)\n",
      "('python_db1',)\n",
      "('python_db2',)\n",
      "('school',)\n",
      "('second',)\n",
      "('sys',)\n"
     ]
    }
   ],
   "source": [
    "mycrs.execute(\"show databases\")\n",
    "for x in mycrs:\n",
    "    print(x)"
   ]
  },
  {
   "cell_type": "code",
   "execution_count": 5,
   "id": "0ca798cc",
   "metadata": {},
   "outputs": [],
   "source": [
    "mydb=mysql.connector.connect(host=\"localhost\",user=\"root\",password=\"Naveen@1301\",database=\"python_db2\")\n",
    "\n",
    "mycrs=mydb.cursor()\n",
    "# Creating a table\n",
    "mycrs.execute(\"create table student(name varchar(50),id varchar(10),section varchar(5))\")"
   ]
  },
  {
   "cell_type": "code",
   "execution_count": 6,
   "id": "8aa8ed25",
   "metadata": {},
   "outputs": [
    {
     "name": "stdout",
     "output_type": "stream",
     "text": [
      "CMySQLCursor: desc student\n",
      "('name', b'varchar(50)', 'YES', '', None, '')\n",
      "('id', b'varchar(10)', 'YES', '', None, '')\n",
      "('section', b'varchar(5)', 'YES', '', None, '')\n"
     ]
    }
   ],
   "source": [
    "mycrs.execute(\"desc student\")\n",
    "print(mycrs)\n",
    "for i in mycrs:\n",
    "    print(i)\n"
   ]
  },
  {
   "cell_type": "code",
   "execution_count": 7,
   "id": "2306577c",
   "metadata": {},
   "outputs": [
    {
     "name": "stdout",
     "output_type": "stream",
     "text": [
      "('student',)\n"
     ]
    }
   ],
   "source": [
    "mycrs.execute(\"show tables\")\n",
    "for i in mycrs:\n",
    "    print(i)"
   ]
  },
  {
   "cell_type": "code",
   "execution_count": 8,
   "id": "07f5d2c5",
   "metadata": {},
   "outputs": [],
   "source": [
    "# Inserting single record \n",
    "sql=\"insert into student(name,id,section) values(%s,%s,%s)\"\n",
    "val=(\"harish\",\"20jr1a12c9\",\"sec-2\")\n",
    "mycrs.execute(sql,val)\n",
    "mydb.commit()"
   ]
  },
  {
   "cell_type": "code",
   "execution_count": 9,
   "id": "b1986c43",
   "metadata": {},
   "outputs": [
    {
     "name": "stdout",
     "output_type": "stream",
     "text": [
      "1 rows are inserted\n"
     ]
    }
   ],
   "source": [
    "print(mycrs.rowcount,\"rows are inserted\")"
   ]
  },
  {
   "cell_type": "code",
   "execution_count": 10,
   "id": "2d28c427",
   "metadata": {},
   "outputs": [
    {
     "name": "stdout",
     "output_type": "stream",
     "text": [
      "('harish', '20jr1a12c9', 'sec-2')\n"
     ]
    }
   ],
   "source": [
    "mycrs.execute(\"select * from student\")\n",
    "for i in mycrs:\n",
    "    print(i)"
   ]
  },
  {
   "cell_type": "code",
   "execution_count": 11,
   "id": "e6b658d4",
   "metadata": {},
   "outputs": [
    {
     "name": "stdout",
     "output_type": "stream",
     "text": [
      "3 rows are inserted\n"
     ]
    }
   ],
   "source": [
    "# Inserting multiple records at a time\n",
    "sql=\"insert into student(name,id,section) values(%s,%s,%s)\"\n",
    "val=[(\"manju\",\"20jr1a12a6\",\"sec-2\"),\n",
    "    (\"avinash\",\"20jr1a12c3\",\"sec-1\"),\n",
    "    (\"vaishu\",\"20jr1a12c9\",\"sec-3\")]\n",
    "mycrs.executemany(sql,val)\n",
    "print(mycrs.rowcount,\"rows are inserted\")"
   ]
  },
  {
   "cell_type": "code",
   "execution_count": 12,
   "id": "62773bee",
   "metadata": {},
   "outputs": [
    {
     "name": "stdout",
     "output_type": "stream",
     "text": [
      "('harish', '20jr1a12c9', 'sec-2')\n",
      "('manju', '20jr1a12a6', 'sec-2')\n",
      "('avinash', '20jr1a12c3', 'sec-1')\n",
      "('vaishu', '20jr1a12c9', 'sec-3')\n",
      "4 are selected\n"
     ]
    }
   ],
   "source": [
    "# Retriving records from table\n",
    "mycrs.execute(\"select * from student\")\n",
    "count=0\n",
    "for i in mycrs:\n",
    "    count+=1\n",
    "    print(i)\n",
    "print(count,\"are selected\")"
   ]
  },
  {
   "cell_type": "code",
   "execution_count": 13,
   "id": "9f0d630a",
   "metadata": {},
   "outputs": [
    {
     "name": "stdout",
     "output_type": "stream",
     "text": [
      "('20jr1a12c9', 'sec-2')\n",
      "1  rows are selected\n"
     ]
    }
   ],
   "source": [
    "# Select records on where condition\n",
    "mycrs.execute(\"select id,section from student where name='harish'\")\n",
    "count=0\n",
    "for i in mycrs:\n",
    "    count+=1\n",
    "    print(i)\n",
    "print(count,\" rows are selected\")"
   ]
  },
  {
   "cell_type": "code",
   "execution_count": 14,
   "id": "a19ada82",
   "metadata": {},
   "outputs": [
    {
     "name": "stdout",
     "output_type": "stream",
     "text": [
      "1 Records(s) are deleted..............\n"
     ]
    }
   ],
   "source": [
    "# deleting record from table\n",
    "mycrs.execute(\"delete from student where name='avinash'\")\n",
    "mydb.commit()\n",
    "print(mycrs.rowcount,\"Records(s) are deleted..............\")"
   ]
  },
  {
   "cell_type": "code",
   "execution_count": 15,
   "id": "b64d94b0",
   "metadata": {},
   "outputs": [
    {
     "name": "stdout",
     "output_type": "stream",
     "text": [
      "('harish', '20jr1a12c9', 'sec-2')\n",
      "('manju', '20jr1a12a6', 'sec-2')\n",
      "('vaishu', '20jr1a12c9', 'sec-3')\n",
      "3 rows are selected\n"
     ]
    }
   ],
   "source": [
    "mycrs.execute(\"select * from student\")\n",
    "count=0\n",
    "for i in mycrs:\n",
    "    print(i)\n",
    "    count+=1\n",
    "print(count,\"rows are selected\")"
   ]
  },
  {
   "cell_type": "code",
   "execution_count": 16,
   "id": "1dfe3914",
   "metadata": {},
   "outputs": [],
   "source": [
    "# updating name \n",
    "mycrs.execute(\"update student set name='vamsi' where name='vaishu'\")\n",
    "for i in mycrs:\n",
    "    print(i)"
   ]
  },
  {
   "cell_type": "code",
   "execution_count": 17,
   "id": "a1acd5d7",
   "metadata": {
    "scrolled": false
   },
   "outputs": [
    {
     "name": "stdout",
     "output_type": "stream",
     "text": [
      "('harish', '20jr1a12c9', 'sec-2')\n",
      "('manju', '20jr1a12a6', 'sec-2')\n",
      "('vamsi', '20jr1a12c9', 'sec-3')\n",
      "6 rows are selected\n"
     ]
    }
   ],
   "source": [
    "mycrs.execute(\"select * from student\")\n",
    "for i in mycrs:\n",
    "    print(i)\n",
    "    count+=1\n",
    "print(count,\"rows are selected\")"
   ]
  },
  {
   "cell_type": "code",
   "execution_count": 20,
   "id": "9bf82b17",
   "metadata": {},
   "outputs": [],
   "source": [
    "mycrs.execute(\"delete from student where name='harish'\")"
   ]
  },
  {
   "cell_type": "code",
   "execution_count": 21,
   "id": "9d28d8e5",
   "metadata": {},
   "outputs": [
    {
     "name": "stdout",
     "output_type": "stream",
     "text": [
      "('manju', '20jr1a12a6', 'sec-2')\n",
      "('vamsi', '20jr1a12c9', 'sec-3')\n",
      "2 rows are selected\n"
     ]
    }
   ],
   "source": [
    "mycrs.execute(\"select * from student\")\n",
    "count=0\n",
    "for i in mycrs:\n",
    "    count+=1\n",
    "    print(i)\n",
    "print(count,\"rows are selected\")"
   ]
  },
  {
   "cell_type": "code",
   "execution_count": 13,
   "id": "97cec617",
   "metadata": {},
   "outputs": [
    {
     "name": "stdout",
     "output_type": "stream",
     "text": [
      "CMySQLCursor: commit\n"
     ]
    }
   ],
   "source": [
    "mycrs1.execute(\"commit\")\n",
    "print(mycrs1)"
   ]
  },
  {
   "cell_type": "code",
   "execution_count": 5,
   "id": "0d46519d",
   "metadata": {},
   "outputs": [],
   "source": [
    "\n",
    "mydb=mysql.connector.connect(host=\"localhost\",user=\"root\",password=\"Naveen@1301\",database=\"emp\")\n",
    "\n",
    "mycrs1=mydb.cursor()"
   ]
  },
  {
   "cell_type": "code",
   "execution_count": 6,
   "id": "bafce571",
   "metadata": {},
   "outputs": [
    {
     "name": "stdout",
     "output_type": "stream",
     "text": [
      "('emp3',)\n",
      "('emp4',)\n",
      "('emp5',)\n"
     ]
    }
   ],
   "source": [
    "mycrs1.execute(\"show tables\")\n",
    "for i in mycrs1:\n",
    "    print(i)"
   ]
  },
  {
   "cell_type": "code",
   "execution_count": 7,
   "id": "3123e2a5",
   "metadata": {},
   "outputs": [
    {
     "name": "stdout",
     "output_type": "stream",
     "text": [
      "CMySQLCursor: desc emp3\n",
      "('emp_id', b'int', 'NO', 'PRI', None, '')\n",
      "('f_name', b'varchar(50)', 'NO', '', None, '')\n",
      "('l_name', b'varchar(50)', 'NO', '', None, '')\n"
     ]
    }
   ],
   "source": [
    "mycrs1.execute(\"desc emp3\")\n",
    "print(mycrs1)\n",
    "for i in mycrs1:\n",
    "    print(i)\n"
   ]
  },
  {
   "cell_type": "code",
   "execution_count": 8,
   "id": "49f44fdf",
   "metadata": {},
   "outputs": [
    {
     "name": "stdout",
     "output_type": "stream",
     "text": [
      "successfully droped the table\n"
     ]
    }
   ],
   "source": [
    "mycrs1.execute(\"drop table emp3\")\n",
    "print(\"successfully droped the table\")"
   ]
  },
  {
   "cell_type": "code",
   "execution_count": 9,
   "id": "5ef4e3ec",
   "metadata": {
    "scrolled": true
   },
   "outputs": [
    {
     "name": "stdout",
     "output_type": "stream",
     "text": [
      "('emp4',)\n",
      "('emp5',)\n"
     ]
    }
   ],
   "source": [
    "# successfully drop the table\n",
    "mycrs1.execute(\"show tables\")\n",
    "for i in mycrs1:\n",
    "    print(i)"
   ]
  },
  {
   "cell_type": "code",
   "execution_count": 12,
   "id": "7a9be334",
   "metadata": {},
   "outputs": [
    {
     "name": "stdout",
     "output_type": "stream",
     "text": [
      "CMySQLCursor: commit\n"
     ]
    }
   ],
   "source": [
    "mycrs1.execute(\"commit\")\n",
    "print(mycrs1)"
   ]
  },
  {
   "cell_type": "code",
   "execution_count": null,
   "id": "a69988b5",
   "metadata": {},
   "outputs": [],
   "source": []
  }
 ],
 "metadata": {
  "kernelspec": {
   "display_name": "Python 3",
   "language": "python",
   "name": "python3"
  },
  "language_info": {
   "codemirror_mode": {
    "name": "ipython",
    "version": 3
   },
   "file_extension": ".py",
   "mimetype": "text/x-python",
   "name": "python",
   "nbconvert_exporter": "python",
   "pygments_lexer": "ipython3",
   "version": "3.8.8"
  }
 },
 "nbformat": 4,
 "nbformat_minor": 5
}
