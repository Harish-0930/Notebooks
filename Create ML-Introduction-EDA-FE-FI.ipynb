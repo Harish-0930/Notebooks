{
 "cells": [
  {
   "cell_type": "code",
   "execution_count": 2,
   "id": "4b8f9fc1",
   "metadata": {},
   "outputs": [],
   "source": [
    "import pandas as pd\n",
    "import os\n",
    "from sklearn.impute import SimpleImputer\n",
    "from sklearn import tree\n",
    "from sklearn import model_selection"
   ]
  },
  {
   "cell_type": "code",
   "execution_count": 4,
   "id": "a4e41b88",
   "metadata": {},
   "outputs": [],
   "source": [
    "#change the working directory\n",
    "os.chdir(\"D:\\harish\")\n"
   ]
  },
  {
   "cell_type": "code",
   "execution_count": 6,
   "id": "e4daabfa",
   "metadata": {},
   "outputs": [
    {
     "name": "stdout",
     "output_type": "stream",
     "text": [
      "(891, 12)\n"
     ]
    }
   ],
   "source": [
    "titanic_train=pd.read_csv(\"train.csv\")\n",
    "print(titanic_train.shape)"
   ]
  },
  {
   "cell_type": "code",
   "execution_count": 7,
   "id": "c4dda1f7",
   "metadata": {},
   "outputs": [
    {
     "name": "stdout",
     "output_type": "stream",
     "text": [
      "<class 'pandas.core.frame.DataFrame'>\n",
      "RangeIndex: 891 entries, 0 to 890\n",
      "Data columns (total 12 columns):\n",
      " #   Column       Non-Null Count  Dtype  \n",
      "---  ------       --------------  -----  \n",
      " 0   PassengerId  891 non-null    int64  \n",
      " 1   Survived     891 non-null    int64  \n",
      " 2   Pclass       891 non-null    int64  \n",
      " 3   Name         891 non-null    object \n",
      " 4   Sex          891 non-null    object \n",
      " 5   Age          714 non-null    float64\n",
      " 6   SibSp        891 non-null    int64  \n",
      " 7   Parch        891 non-null    int64  \n",
      " 8   Ticket       891 non-null    object \n",
      " 9   Fare         891 non-null    float64\n",
      " 10  Cabin        204 non-null    object \n",
      " 11  Embarked     889 non-null    object \n",
      "dtypes: float64(2), int64(5), object(5)\n",
      "memory usage: 83.7+ KB\n"
     ]
    }
   ],
   "source": [
    "titanic_train.info()"
   ]
  },
  {
   "cell_type": "code",
   "execution_count": 8,
   "id": "da11ae72",
   "metadata": {},
   "outputs": [],
   "source": [
    "titanic_test=pd.read_csv(\"test.csv\")"
   ]
  },
  {
   "cell_type": "code",
   "execution_count": 9,
   "id": "dfaf46c7",
   "metadata": {},
   "outputs": [
    {
     "data": {
      "text/plain": [
       "(418, 11)"
      ]
     },
     "execution_count": 9,
     "metadata": {},
     "output_type": "execute_result"
    }
   ],
   "source": [
    "titanic_test.shape"
   ]
  },
  {
   "cell_type": "code",
   "execution_count": 10,
   "id": "4a8ed26d",
   "metadata": {},
   "outputs": [
    {
     "name": "stdout",
     "output_type": "stream",
     "text": [
      "<class 'pandas.core.frame.DataFrame'>\n",
      "RangeIndex: 418 entries, 0 to 417\n",
      "Data columns (total 11 columns):\n",
      " #   Column       Non-Null Count  Dtype  \n",
      "---  ------       --------------  -----  \n",
      " 0   PassengerId  418 non-null    int64  \n",
      " 1   Pclass       418 non-null    int64  \n",
      " 2   Name         418 non-null    object \n",
      " 3   Sex          418 non-null    object \n",
      " 4   Age          332 non-null    float64\n",
      " 5   SibSp        418 non-null    int64  \n",
      " 6   Parch        418 non-null    int64  \n",
      " 7   Ticket       418 non-null    object \n",
      " 8   Fare         417 non-null    float64\n",
      " 9   Cabin        91 non-null     object \n",
      " 10  Embarked     418 non-null    object \n",
      "dtypes: float64(2), int64(4), object(5)\n",
      "memory usage: 36.0+ KB\n"
     ]
    }
   ],
   "source": [
    "titanic_test.info()"
   ]
  },
  {
   "cell_type": "code",
   "execution_count": 11,
   "id": "bba71558",
   "metadata": {},
   "outputs": [],
   "source": [
    "titanic_test.Survived=None"
   ]
  },
  {
   "cell_type": "code",
   "execution_count": 17,
   "id": "309a2f72",
   "metadata": {},
   "outputs": [],
   "source": [
    "titanic_test['Survived']=None"
   ]
  },
  {
   "cell_type": "code",
   "execution_count": 18,
   "id": "bb97a82e",
   "metadata": {},
   "outputs": [
    {
     "data": {
      "text/plain": [
       "0      None\n",
       "1      None\n",
       "2      None\n",
       "3      None\n",
       "4      None\n",
       "       ... \n",
       "413    None\n",
       "414    None\n",
       "415    None\n",
       "416    None\n",
       "417    None\n",
       "Name: Survived, Length: 418, dtype: object"
      ]
     },
     "execution_count": 18,
     "metadata": {},
     "output_type": "execute_result"
    }
   ],
   "source": [
    "titanic_test['Survived']"
   ]
  },
  {
   "cell_type": "code",
   "execution_count": 19,
   "id": "f4a8502f",
   "metadata": {},
   "outputs": [],
   "source": [
    "#lets concatinate both train and test\n",
    "#we have same number of rows and cols\n",
    "#by concatinating train and test our job will be easy\n",
    "titanic=pd.concat([titanic_train,titanic_test])\n"
   ]
  },
  {
   "cell_type": "code",
   "execution_count": 20,
   "id": "aa5905bc",
   "metadata": {},
   "outputs": [
    {
     "data": {
      "text/plain": [
       "(1309, 12)"
      ]
     },
     "execution_count": 20,
     "metadata": {},
     "output_type": "execute_result"
    }
   ],
   "source": [
    "titanic.shape"
   ]
  },
  {
   "cell_type": "code",
   "execution_count": 21,
   "id": "bb3dbd73",
   "metadata": {
    "scrolled": true
   },
   "outputs": [
    {
     "name": "stdout",
     "output_type": "stream",
     "text": [
      "<class 'pandas.core.frame.DataFrame'>\n",
      "Int64Index: 1309 entries, 0 to 417\n",
      "Data columns (total 12 columns):\n",
      " #   Column       Non-Null Count  Dtype  \n",
      "---  ------       --------------  -----  \n",
      " 0   PassengerId  1309 non-null   int64  \n",
      " 1   Survived     891 non-null    object \n",
      " 2   Pclass       1309 non-null   int64  \n",
      " 3   Name         1309 non-null   object \n",
      " 4   Sex          1309 non-null   object \n",
      " 5   Age          1046 non-null   float64\n",
      " 6   SibSp        1309 non-null   int64  \n",
      " 7   Parch        1309 non-null   int64  \n",
      " 8   Ticket       1309 non-null   object \n",
      " 9   Fare         1308 non-null   float64\n",
      " 10  Cabin        295 non-null    object \n",
      " 11  Embarked     1307 non-null   object \n",
      "dtypes: float64(2), int64(4), object(6)\n",
      "memory usage: 132.9+ KB\n"
     ]
    }
   ],
   "source": [
    "titanic.info()"
   ]
  },
  {
   "cell_type": "code",
   "execution_count": 28,
   "id": "24450319",
   "metadata": {},
   "outputs": [],
   "source": [
    "# Extract and create title column from name\n",
    "def extract_title(name):\n",
    "    return name.split(',')[1].split(',')[0].strip()\n",
    "titanic['Title']=titanic['Name'].map(extract_title)"
   ]
  },
  {
   "cell_type": "code",
   "execution_count": 54,
   "id": "cd863345",
   "metadata": {},
   "outputs": [
    {
     "data": {
      "text/plain": [
       "'Cumings, Mrs. John Bradley (Florence Briggs Thayer)'"
      ]
     },
     "execution_count": 54,
     "metadata": {},
     "output_type": "execute_result"
    }
   ],
   "source": [
    "titanic.Name.iloc[1:2,][1]"
   ]
  },
  {
   "cell_type": "code",
   "execution_count": 52,
   "id": "1b442aa4",
   "metadata": {},
   "outputs": [
    {
     "data": {
      "text/plain": [
       "'Mrs. John Bradley (Florence Briggs Thayer)'"
      ]
     },
     "execution_count": 52,
     "metadata": {},
     "output_type": "execute_result"
    }
   ],
   "source": [
    "titanic.Title.iloc[1:2,][1]\n"
   ]
  },
  {
   "cell_type": "code",
   "execution_count": 55,
   "id": "6dd75e1a",
   "metadata": {},
   "outputs": [],
   "source": [
    "#imputation work for missing data with default values\n",
    "# Age column has missing data\n",
    "# Fare column has no missing data\n",
    "mean_imputer=SimpleImputer()"
   ]
  },
  {
   "cell_type": "code",
   "execution_count": 64,
   "id": "34ca6d5c",
   "metadata": {},
   "outputs": [
    {
     "data": {
      "text/plain": [
       "SimpleImputer()"
      ]
     },
     "execution_count": 64,
     "metadata": {},
     "output_type": "execute_result"
    }
   ],
   "source": [
    "mean_imputer.fit(titanic_train[['Age','Fare']])# By default parameter is mean"
   ]
  },
  {
   "cell_type": "code",
   "execution_count": 65,
   "id": "8758a058",
   "metadata": {},
   "outputs": [],
   "source": [
    "titanic[['Age','Fare']]=mean_imputer.transform(titanic[['Age','Fare']])"
   ]
  },
  {
   "cell_type": "code",
   "execution_count": 66,
   "id": "2b762a0b",
   "metadata": {},
   "outputs": [
    {
     "name": "stdout",
     "output_type": "stream",
     "text": [
      "<class 'pandas.core.series.Series'>\n",
      "Int64Index: 1309 entries, 0 to 417\n",
      "Series name: Age\n",
      "Non-Null Count  Dtype  \n",
      "--------------  -----  \n",
      "1309 non-null   float64\n",
      "dtypes: float64(1)\n",
      "memory usage: 20.5 KB\n"
     ]
    }
   ],
   "source": [
    "# no null values in age column\n",
    "titanic['Age'].info()"
   ]
  },
  {
   "cell_type": "code",
   "execution_count": 67,
   "id": "425cbb73",
   "metadata": {},
   "outputs": [
    {
     "name": "stdout",
     "output_type": "stream",
     "text": [
      "<class 'pandas.core.series.Series'>\n",
      "Int64Index: 1309 entries, 0 to 417\n",
      "Series name: Fare\n",
      "Non-Null Count  Dtype  \n",
      "--------------  -----  \n",
      "1309 non-null   float64\n",
      "dtypes: float64(1)\n",
      "memory usage: 20.5 KB\n"
     ]
    }
   ],
   "source": [
    "#no null values in Fare column\n",
    "titanic['Fare'].info()"
   ]
  },
  {
   "cell_type": "code",
   "execution_count": 69,
   "id": "4775ba78",
   "metadata": {},
   "outputs": [],
   "source": [
    "'''creating categorical age column from age\n",
    "its always a good practice to create functions \n",
    "so that the same can be applies on test data as well  '''\n",
    "def convert_age(age):\n",
    "    if(age>=0 and age<=10):\n",
    "        return 'Child'\n",
    "    elif(age<=25):\n",
    "        return 'Young'\n",
    "    elif(age<=50):\n",
    "        return 'Middle'\n",
    "    else:\n",
    "        return 'Old'\n",
    "#convert numerical age column to categorical age_cat column\n",
    "titanic['Age_cat']=titanic['Age'].map(convert_age)"
   ]
  },
  {
   "cell_type": "code",
   "execution_count": 73,
   "id": "f14be507",
   "metadata": {},
   "outputs": [],
   "source": [
    "#create a new familysize by combining sibsp and parch\n",
    "titanic['FamilySize']=titanic['SibSp']+titanic['Parch']+1\n",
    "def convert_familysize(size):\n",
    "    if(size==1):\n",
    "        return 'Single'\n",
    "    elif(size<=3):\n",
    "        return 'Small'\n",
    "    elif(size<=6):\n",
    "        return 'Medium'\n",
    "    else:\n",
    "        return 'Large'\n",
    "# convert numerical familysize column to categorical familysize_cat column\n",
    "titanic['FamilySize_Cat']=titanic['FamilySize'].map(convert_familysize)"
   ]
  },
  {
   "cell_type": "code",
   "execution_count": 122,
   "id": "38f3f650",
   "metadata": {},
   "outputs": [
    {
     "data": {
      "text/plain": [
       "0       Small\n",
       "1       Small\n",
       "2      Single\n",
       "3       Small\n",
       "4      Single\n",
       "        ...  \n",
       "413    Single\n",
       "414    Single\n",
       "415    Single\n",
       "416    Single\n",
       "417     Small\n",
       "Name: FamilySize_Cat, Length: 1309, dtype: object"
      ]
     },
     "execution_count": 122,
     "metadata": {},
     "output_type": "execute_result"
    }
   ],
   "source": [
    "titanic['FamilySize_Cat']"
   ]
  },
  {
   "cell_type": "code",
   "execution_count": 125,
   "id": "ca134580",
   "metadata": {},
   "outputs": [
    {
     "name": "stdout",
     "output_type": "stream",
     "text": [
      "(1309, 1173)\n",
      "<class 'pandas.core.frame.DataFrame'>\n",
      "Int64Index: 1309 entries, 0 to 417\n",
      "Columns: 1173 entries, PassengerId to FamilySize_Cat_Small\n",
      "dtypes: float64(2), int64(4), object(4), uint8(1163)\n",
      "memory usage: 1.6+ MB\n"
     ]
    }
   ],
   "source": [
    "#Now we got 3 new columns, Title, Age_Cat, FamilySize_Cat\n",
    "#convert categorical columns to one-hot encoded columns including, \n",
    "#newly created 3 categorical columns\n",
    "titanic1=pd.get_dummies(titanic,columns=['Sex','Pclass','Age_cat','Title','FamilySize_Cat','Embarked','FamilySize_Cat'])\n",
    "print(titanic1.shape)\n",
    "titanic1.info()"
   ]
  },
  {
   "cell_type": "code",
   "execution_count": 128,
   "id": "47816ce8",
   "metadata": {},
   "outputs": [],
   "source": [
    "# Drop unwanted columns and create new set called titanic2\n",
    "titanic2=titanic1.drop(['PassengerId','Name','Age','Ticket','Cabin','Survived'],axis=1,inplace=False)"
   ]
  },
  {
   "cell_type": "code",
   "execution_count": 129,
   "id": "c7596eee",
   "metadata": {},
   "outputs": [
    {
     "data": {
      "text/plain": [
       "(1309, 1167)"
      ]
     },
     "execution_count": 129,
     "metadata": {},
     "output_type": "execute_result"
    }
   ],
   "source": [
    "titanic2.shape"
   ]
  },
  {
   "cell_type": "code",
   "execution_count": 130,
   "id": "2a564ec8",
   "metadata": {},
   "outputs": [
    {
     "name": "stdout",
     "output_type": "stream",
     "text": [
      "<class 'pandas.core.frame.DataFrame'>\n",
      "Int64Index: 1309 entries, 0 to 417\n",
      "Columns: 1167 entries, SibSp to FamilySize_Cat_Small\n",
      "dtypes: float64(1), int64(3), uint8(1163)\n",
      "memory usage: 1.5 MB\n"
     ]
    }
   ],
   "source": [
    "titanic2.info()"
   ]
  },
  {
   "cell_type": "code",
   "execution_count": 189,
   "id": "40b3e376",
   "metadata": {},
   "outputs": [],
   "source": [
    "# Splitting train and test data\n",
    "x_train=titanic2[0:891]"
   ]
  },
  {
   "cell_type": "code",
   "execution_count": 190,
   "id": "83c3c7df",
   "metadata": {},
   "outputs": [
    {
     "data": {
      "text/plain": [
       "(891, 1167)"
      ]
     },
     "execution_count": 190,
     "metadata": {},
     "output_type": "execute_result"
    }
   ],
   "source": [
    "x_train.shape"
   ]
  },
  {
   "cell_type": "code",
   "execution_count": 191,
   "id": "3ea1e442",
   "metadata": {},
   "outputs": [],
   "source": [
    "y_train=titanic_train['Survived']"
   ]
  },
  {
   "cell_type": "code",
   "execution_count": 192,
   "id": "b5f75af0",
   "metadata": {},
   "outputs": [],
   "source": [
    "#Let's build the model\n",
    "#If we don't use random_state parameter, system can pick different values each time and we may get slight difference in accuracy each time you run.\n",
    "tree_estimator=tree.DecisionTreeClassifier()"
   ]
  },
  {
   "cell_type": "code",
   "execution_count": 193,
   "id": "aa820efc",
   "metadata": {},
   "outputs": [
    {
     "data": {
      "text/plain": [
       "DecisionTreeClassifier()"
      ]
     },
     "execution_count": 193,
     "metadata": {},
     "output_type": "execute_result"
    }
   ],
   "source": [
    "tree_estimator"
   ]
  },
  {
   "cell_type": "code",
   "execution_count": 194,
   "id": "fbe0d24e",
   "metadata": {},
   "outputs": [],
   "source": [
    "# Add parameters for tuning\n",
    "dt_grid={'max_depth':[10,12],'min_samples_split':[2,4,6,7,8],'criterion':['gini','entropy']}"
   ]
  },
  {
   "cell_type": "code",
   "execution_count": 195,
   "id": "8b57807b",
   "metadata": {},
   "outputs": [],
   "source": [
    "param_grid=model_selection.GridSearchCV(tree_estimator,dt_grid,cv=9)"
   ]
  },
  {
   "cell_type": "code",
   "execution_count": 196,
   "id": "e1620fef",
   "metadata": {},
   "outputs": [
    {
     "data": {
      "text/plain": [
       "GridSearchCV(cv=9, estimator=DecisionTreeClassifier(),\n",
       "             param_grid={'criterion': ['gini', 'entropy'],\n",
       "                         'max_depth': [10, 12],\n",
       "                         'min_samples_split': [2, 4, 6, 7, 8]})"
      ]
     },
     "execution_count": 196,
     "metadata": {},
     "output_type": "execute_result"
    }
   ],
   "source": [
    "param_grid.fit(x_train,y_train)"
   ]
  },
  {
   "cell_type": "code",
   "execution_count": 197,
   "id": "99fb4699",
   "metadata": {},
   "outputs": [
    {
     "name": "stdout",
     "output_type": "stream",
     "text": [
      "0.8294051627384962\n",
      "{'criterion': 'entropy', 'max_depth': 12, 'min_samples_split': 4}\n",
      "0.9438832772166106\n"
     ]
    }
   ],
   "source": [
    "print(param_grid.best_score_) #Best score\n",
    "print(param_grid.best_params_)\n",
    "print(param_grid.score(x_train, y_train)) #Train score  #Evalution of tree"
   ]
  },
  {
   "cell_type": "code",
   "execution_count": 227,
   "id": "8b2d8e62",
   "metadata": {},
   "outputs": [],
   "source": [
    "# Now lets predict the test data\n",
    "x_test=titanic2[891:]"
   ]
  },
  {
   "cell_type": "code",
   "execution_count": 199,
   "id": "b7d9e363",
   "metadata": {},
   "outputs": [
    {
     "data": {
      "text/plain": [
       "(418, 1167)"
      ]
     },
     "execution_count": 199,
     "metadata": {},
     "output_type": "execute_result"
    }
   ],
   "source": [
    "x_test.shape"
   ]
  },
  {
   "cell_type": "code",
   "execution_count": 225,
   "id": "1df0e710",
   "metadata": {},
   "outputs": [
    {
     "name": "stdout",
     "output_type": "stream",
     "text": [
      "<class 'pandas.core.frame.DataFrame'>\n",
      "Int64Index: 1309 entries, 0 to 417\n",
      "Columns: 1167 entries, SibSp to FamilySize_Cat_Small\n",
      "dtypes: float64(1), int64(3), uint8(1163)\n",
      "memory usage: 1.5 MB\n"
     ]
    }
   ],
   "source": [
    "titanic2.info()"
   ]
  },
  {
   "cell_type": "code",
   "execution_count": 200,
   "id": "8b086dff",
   "metadata": {},
   "outputs": [
    {
     "data": {
      "text/html": [
       "<div>\n",
       "<style scoped>\n",
       "    .dataframe tbody tr th:only-of-type {\n",
       "        vertical-align: middle;\n",
       "    }\n",
       "\n",
       "    .dataframe tbody tr th {\n",
       "        vertical-align: top;\n",
       "    }\n",
       "\n",
       "    .dataframe thead th {\n",
       "        text-align: right;\n",
       "    }\n",
       "</style>\n",
       "<table border=\"1\" class=\"dataframe\">\n",
       "  <thead>\n",
       "    <tr style=\"text-align: right;\">\n",
       "      <th></th>\n",
       "      <th>SibSp</th>\n",
       "      <th>Parch</th>\n",
       "      <th>Fare</th>\n",
       "      <th>FamilySize</th>\n",
       "      <th>Sex_female</th>\n",
       "      <th>Sex_male</th>\n",
       "      <th>Pclass_1</th>\n",
       "      <th>Pclass_2</th>\n",
       "      <th>Pclass_3</th>\n",
       "      <th>Age_cat_Child</th>\n",
       "      <th>...</th>\n",
       "      <th>FamilySize_Cat_Medium</th>\n",
       "      <th>FamilySize_Cat_Single</th>\n",
       "      <th>FamilySize_Cat_Small</th>\n",
       "      <th>Embarked_C</th>\n",
       "      <th>Embarked_Q</th>\n",
       "      <th>Embarked_S</th>\n",
       "      <th>FamilySize_Cat_Large</th>\n",
       "      <th>FamilySize_Cat_Medium</th>\n",
       "      <th>FamilySize_Cat_Single</th>\n",
       "      <th>FamilySize_Cat_Small</th>\n",
       "    </tr>\n",
       "  </thead>\n",
       "  <tbody>\n",
       "    <tr>\n",
       "      <th>0</th>\n",
       "      <td>0</td>\n",
       "      <td>0</td>\n",
       "      <td>7.8292</td>\n",
       "      <td>1</td>\n",
       "      <td>0</td>\n",
       "      <td>1</td>\n",
       "      <td>0</td>\n",
       "      <td>0</td>\n",
       "      <td>1</td>\n",
       "      <td>0</td>\n",
       "      <td>...</td>\n",
       "      <td>0</td>\n",
       "      <td>1</td>\n",
       "      <td>0</td>\n",
       "      <td>0</td>\n",
       "      <td>1</td>\n",
       "      <td>0</td>\n",
       "      <td>0</td>\n",
       "      <td>0</td>\n",
       "      <td>1</td>\n",
       "      <td>0</td>\n",
       "    </tr>\n",
       "    <tr>\n",
       "      <th>1</th>\n",
       "      <td>1</td>\n",
       "      <td>0</td>\n",
       "      <td>7.0000</td>\n",
       "      <td>2</td>\n",
       "      <td>1</td>\n",
       "      <td>0</td>\n",
       "      <td>0</td>\n",
       "      <td>0</td>\n",
       "      <td>1</td>\n",
       "      <td>0</td>\n",
       "      <td>...</td>\n",
       "      <td>0</td>\n",
       "      <td>0</td>\n",
       "      <td>1</td>\n",
       "      <td>0</td>\n",
       "      <td>0</td>\n",
       "      <td>1</td>\n",
       "      <td>0</td>\n",
       "      <td>0</td>\n",
       "      <td>0</td>\n",
       "      <td>1</td>\n",
       "    </tr>\n",
       "    <tr>\n",
       "      <th>2</th>\n",
       "      <td>0</td>\n",
       "      <td>0</td>\n",
       "      <td>9.6875</td>\n",
       "      <td>1</td>\n",
       "      <td>0</td>\n",
       "      <td>1</td>\n",
       "      <td>0</td>\n",
       "      <td>1</td>\n",
       "      <td>0</td>\n",
       "      <td>0</td>\n",
       "      <td>...</td>\n",
       "      <td>0</td>\n",
       "      <td>1</td>\n",
       "      <td>0</td>\n",
       "      <td>0</td>\n",
       "      <td>1</td>\n",
       "      <td>0</td>\n",
       "      <td>0</td>\n",
       "      <td>0</td>\n",
       "      <td>1</td>\n",
       "      <td>0</td>\n",
       "    </tr>\n",
       "    <tr>\n",
       "      <th>3</th>\n",
       "      <td>0</td>\n",
       "      <td>0</td>\n",
       "      <td>8.6625</td>\n",
       "      <td>1</td>\n",
       "      <td>0</td>\n",
       "      <td>1</td>\n",
       "      <td>0</td>\n",
       "      <td>0</td>\n",
       "      <td>1</td>\n",
       "      <td>0</td>\n",
       "      <td>...</td>\n",
       "      <td>0</td>\n",
       "      <td>1</td>\n",
       "      <td>0</td>\n",
       "      <td>0</td>\n",
       "      <td>0</td>\n",
       "      <td>1</td>\n",
       "      <td>0</td>\n",
       "      <td>0</td>\n",
       "      <td>1</td>\n",
       "      <td>0</td>\n",
       "    </tr>\n",
       "    <tr>\n",
       "      <th>4</th>\n",
       "      <td>1</td>\n",
       "      <td>1</td>\n",
       "      <td>12.2875</td>\n",
       "      <td>3</td>\n",
       "      <td>1</td>\n",
       "      <td>0</td>\n",
       "      <td>0</td>\n",
       "      <td>0</td>\n",
       "      <td>1</td>\n",
       "      <td>0</td>\n",
       "      <td>...</td>\n",
       "      <td>0</td>\n",
       "      <td>0</td>\n",
       "      <td>1</td>\n",
       "      <td>0</td>\n",
       "      <td>0</td>\n",
       "      <td>1</td>\n",
       "      <td>0</td>\n",
       "      <td>0</td>\n",
       "      <td>0</td>\n",
       "      <td>1</td>\n",
       "    </tr>\n",
       "  </tbody>\n",
       "</table>\n",
       "<p>5 rows × 1167 columns</p>\n",
       "</div>"
      ],
      "text/plain": [
       "   SibSp  Parch     Fare  FamilySize  Sex_female  Sex_male  Pclass_1  \\\n",
       "0      0      0   7.8292           1           0         1         0   \n",
       "1      1      0   7.0000           2           1         0         0   \n",
       "2      0      0   9.6875           1           0         1         0   \n",
       "3      0      0   8.6625           1           0         1         0   \n",
       "4      1      1  12.2875           3           1         0         0   \n",
       "\n",
       "   Pclass_2  Pclass_3  Age_cat_Child  ...  FamilySize_Cat_Medium  \\\n",
       "0         0         1              0  ...                      0   \n",
       "1         0         1              0  ...                      0   \n",
       "2         1         0              0  ...                      0   \n",
       "3         0         1              0  ...                      0   \n",
       "4         0         1              0  ...                      0   \n",
       "\n",
       "   FamilySize_Cat_Single  FamilySize_Cat_Small  Embarked_C  Embarked_Q  \\\n",
       "0                      1                     0           0           1   \n",
       "1                      0                     1           0           0   \n",
       "2                      1                     0           0           1   \n",
       "3                      1                     0           0           0   \n",
       "4                      0                     1           0           0   \n",
       "\n",
       "   Embarked_S  FamilySize_Cat_Large  FamilySize_Cat_Medium  \\\n",
       "0           0                     0                      0   \n",
       "1           1                     0                      0   \n",
       "2           0                     0                      0   \n",
       "3           1                     0                      0   \n",
       "4           1                     0                      0   \n",
       "\n",
       "   FamilySize_Cat_Single  FamilySize_Cat_Small  \n",
       "0                      1                     0  \n",
       "1                      0                     1  \n",
       "2                      1                     0  \n",
       "3                      1                     0  \n",
       "4                      0                     1  \n",
       "\n",
       "[5 rows x 1167 columns]"
      ]
     },
     "execution_count": 200,
     "metadata": {},
     "output_type": "execute_result"
    }
   ],
   "source": [
    "x_test.head()"
   ]
  },
  {
   "cell_type": "code",
   "execution_count": 201,
   "id": "1c9c5503",
   "metadata": {},
   "outputs": [
    {
     "name": "stdout",
     "output_type": "stream",
     "text": [
      "<class 'pandas.core.frame.DataFrame'>\n",
      "Int64Index: 418 entries, 0 to 417\n",
      "Columns: 1167 entries, SibSp to FamilySize_Cat_Small\n",
      "dtypes: float64(1), int64(3), uint8(1163)\n",
      "memory usage: 491.1 KB\n"
     ]
    }
   ],
   "source": [
    "x_test.info()"
   ]
  },
  {
   "cell_type": "code",
   "execution_count": 229,
   "id": "bd5d5989",
   "metadata": {},
   "outputs": [
    {
     "name": "stdout",
     "output_type": "stream",
     "text": [
      "X_trian shape (891, 1167)\n",
      "X_test shape (418, 1167)\n"
     ]
    }
   ],
   "source": [
    "print('X_trian shape',x_train.shape)\n",
    "print(\"X_test shape\",x_test.shape)"
   ]
  },
  {
   "cell_type": "code",
   "execution_count": 207,
   "id": "ebdde866",
   "metadata": {},
   "outputs": [],
   "source": [
    "titanic_test['survived']=param_grid.predict(x_test)"
   ]
  },
  {
   "cell_type": "code",
   "execution_count": 208,
   "id": "b4868562",
   "metadata": {},
   "outputs": [
    {
     "data": {
      "text/plain": [
       "0      0\n",
       "1      0\n",
       "2      0\n",
       "3      0\n",
       "4      1\n",
       "      ..\n",
       "413    0\n",
       "414    1\n",
       "415    0\n",
       "416    0\n",
       "417    1\n",
       "Name: survived, Length: 418, dtype: int64"
      ]
     },
     "execution_count": 208,
     "metadata": {},
     "output_type": "execute_result"
    }
   ],
   "source": [
    "titanic_test['survived']"
   ]
  },
  {
   "cell_type": "code",
   "execution_count": 210,
   "id": "a641b33e",
   "metadata": {},
   "outputs": [],
   "source": [
    "#writing passengerid and survived to csv file called Attempt for prediction\n",
    "titanic_test.to_csv('Attempt.csv',columns=['PassengerId','survived'],index=False)"
   ]
  }
 ],
 "metadata": {
  "kernelspec": {
   "display_name": "Python 3 (ipykernel)",
   "language": "python",
   "name": "python3"
  },
  "language_info": {
   "codemirror_mode": {
    "name": "ipython",
    "version": 3
   },
   "file_extension": ".py",
   "mimetype": "text/x-python",
   "name": "python",
   "nbconvert_exporter": "python",
   "pygments_lexer": "ipython3",
   "version": "3.9.13"
  }
 },
 "nbformat": 4,
 "nbformat_minor": 5
}
